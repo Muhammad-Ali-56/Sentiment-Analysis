{
  "nbformat": 4,
  "nbformat_minor": 0,
  "metadata": {
    "colab": {
      "provenance": [],
      "mount_file_id": "193fF3ZLdMR_PMVd0OibidXdpYMDpUlJx",
      "authorship_tag": "ABX9TyMEjfZLTiyTz2X2FSEj/BPG",
      "include_colab_link": true
    },
    "kernelspec": {
      "name": "python3",
      "display_name": "Python 3"
    },
    "language_info": {
      "name": "python"
    }
  },
  "cells": [
    {
      "cell_type": "markdown",
      "metadata": {
        "id": "view-in-github",
        "colab_type": "text"
      },
      "source": [
        "<a href=\"https://colab.research.google.com/github/Muhammad-Ali-56/Sentiment-Analysis/blob/main/Sentiment_analysis.ipynb\" target=\"_parent\"><img src=\"https://colab.research.google.com/assets/colab-badge.svg\" alt=\"Open In Colab\"/></a>"
      ]
    },
    {
      "cell_type": "markdown",
      "source": [
        "# ***Sentiment Analysis Model***\n",
        "\n",
        "---\n",
        "\n"
      ],
      "metadata": {
        "id": "6LZXtEALAPVY"
      }
    },
    {
      "cell_type": "markdown",
      "source": [
        "**Creating Data for sentiment analysis**"
      ],
      "metadata": {
        "id": "gi87l539902v"
      }
    },
    {
      "cell_type": "code",
      "source": [
        "# Some Positive Reviews\n",
        "\n",
        "positive_phrases = [\n",
        "    \"I love this product!\",\n",
        "    \"This is amazing!\",\n",
        "    \"Great quality and value.\",\n",
        "    \"Highly recommended!\",\n",
        "    \"Excellent customer service.\",\n",
        "    \"Outstanding experience.\",\n",
        "    \"loved it\",\n",
        "    \"fabulous\",\n",
        "    \"fabulus\",\n",
        "    \"very good\",\n",
        "    \"exelent\",\n",
        "    \"5/5\",\n",
        "    \"4/5\",\n",
        "    \"3/5\",\n",
        "    \"best\",\n",
        "    \"very good experience\",\n",
        "    \"its a great product\",\n",
        "]\n",
        "\n",
        "# Generate positive reviews by duplicating phrases\n",
        "num_reviews = 2000\n",
        "positive_reviews = np.random.choice(positive_phrases, num_reviews)\n",
        "\n",
        "# Labels for positive reviews\n",
        "positive_labels = [\"positive\"] * num_reviews\n",
        "\n",
        "# Combine positive reviews and labels\n",
        "reviews = positive_reviews\n",
        "labels = positive_labels\n",
        "positive_data = [(reviews, \"positive\") for reviews in positive_reviews]"
      ],
      "metadata": {
        "id": "f7aBBRlG1z65"
      },
      "execution_count": 153,
      "outputs": []
    },
    {
      "cell_type": "code",
      "source": [
        "# Some Negative Reviews\n",
        "\n",
        "negative_phrases = [\n",
        "    \"Terrible product!\",\n",
        "    \"Waste of money.\",\n",
        "    \"Very disappointing.\",\n",
        "    \"Poor quality.\",\n",
        "    \"Bad customer service.\",\n",
        "    \"Not worth it at all.\",\n",
        "    \"fuck this product\",\n",
        "    \"worst one\",\n",
        "    \"i didn't recommend it\",\n",
        "    \"very bad\",\n",
        "    \"fake\",\n",
        "    \"1/5\",\n",
        "    \"sad\",\n",
        "    \"0/5\",\n",
        "    \"ackward\",\n",
        "    \"waste of time\",\n",
        "    # Add more negative phrases...\n",
        "]\n",
        "\n",
        "# Generate negative reviews by duplicating phrases\n",
        "num_reviews = 1300\n",
        "negative_reviews = np.random.choice(negative_phrases, num_reviews)\n",
        "\n",
        "# Labels for negative reviews\n",
        "negative_labels = [\"negative\"] * num_reviews\n",
        "\n",
        "# Combine negative reviews and labels\n",
        "reviews = negative_reviews\n",
        "labels = negative_labels\n",
        "negative_data = [(reviews, \"negative\") for reviews in negative_reviews]"
      ],
      "metadata": {
        "id": "-ficJ5M15gwB"
      },
      "execution_count": 154,
      "outputs": []
    },
    {
      "cell_type": "code",
      "source": [
        "# Some Neutral Reviews\n",
        "\n",
        "neutral_phrases = [\n",
        "    \"It's okay, nothing special.\",\n",
        "    \"Neutral experience.\",\n",
        "    \"Average product.\",\n",
        "    \"Neither good nor bad.\",\n",
        "    \"Could be better.\",\n",
        "    \"Middle of the road.\",\n",
        "    \"not bad at all.\",\n",
        "    \"nothing to say.\",\n",
        "    \"2/5\",\n",
        "    \"hello\",\n",
        "    # Add more neutral phrases...\n",
        "]\n",
        "\n",
        "# Generate neutral reviews by duplicating phrases\n",
        "num_reviews = 1200\n",
        "neutral_reviews = np.random.choice(neutral_phrases, num_reviews)\n",
        "\n",
        "# Create a list of (review, label) tuples\n",
        "\n",
        "neutral_data = [(review, \"neutral\") for review in neutral_reviews]"
      ],
      "metadata": {
        "id": "7G3WcVG79RK1"
      },
      "execution_count": 155,
      "outputs": []
    },
    {
      "cell_type": "markdown",
      "source": [
        "**Joining The Phrases**"
      ],
      "metadata": {
        "id": "de_BdJr1BKxP"
      }
    },
    {
      "cell_type": "code",
      "source": [
        "Data1=positive_data+negative_data+neutral_data"
      ],
      "metadata": {
        "id": "yAC6i68_5z2G"
      },
      "execution_count": 156,
      "outputs": []
    },
    {
      "cell_type": "code",
      "source": [
        "np.random.shuffle(Data1)"
      ],
      "metadata": {
        "id": "te5uSCe4-lKn"
      },
      "execution_count": 168,
      "outputs": []
    },
    {
      "cell_type": "markdown",
      "source": [
        "**Creating Model**"
      ],
      "metadata": {
        "id": "GAnAc5C_BZHU"
      }
    },
    {
      "cell_type": "code",
      "source": [
        "import numpy as np\n",
        "from sklearn.model_selection import train_test_split\n",
        "from sklearn.feature_extraction.text import CountVectorizer\n",
        "from sklearn.naive_bayes import MultinomialNB\n",
        "from sklearn.metrics import accuracy_score\n",
        "\n",
        "# Sample data (you can replace this with your own dataset)\n",
        "Data1\n",
        "# Separate text and labels\n",
        "texts, labels = zip(*Data1)\n",
        "\n",
        "# Split data into training and testing sets\n",
        "texts_train, texts_test, labels_train, labels_test = train_test_split(texts, labels, test_size=0.35, random_state=42)\n",
        "\n",
        "# Convert text data to numerical representation using Bag-of-Words\n",
        "vectorizer = CountVectorizer()\n",
        "X_train = vectorizer.fit_transform(texts_train)\n",
        "X_test = vectorizer.transform(texts_test)\n",
        "\n",
        "# Initialize and train the Naive Bayes classifier\n",
        "classifier = MultinomialNB()\n",
        "classifier.fit(X_train, labels_train)\n",
        "\n",
        "# Predict sentiment labels for the test set\n",
        "predictions = classifier.predict(X_test)\n",
        "\n",
        "# Calculate accuracy\n",
        "accuracy = accuracy_score(labels_test, predictions)\n",
        "print(\"Accuracy:\", accuracy)"
      ],
      "metadata": {
        "colab": {
          "base_uri": "https://localhost:8080/"
        },
        "id": "NUl-ynFV--nt",
        "outputId": "9a3427d4-e30e-42c4-977c-59f03d9703a5"
      },
      "execution_count": 158,
      "outputs": [
        {
          "output_type": "stream",
          "name": "stdout",
          "text": [
            "Accuracy: 0.940952380952381\n"
          ]
        }
      ]
    },
    {
      "cell_type": "markdown",
      "source": [
        "# **Saving Model for Future use &**\n",
        "**Prediction on new Review**"
      ],
      "metadata": {
        "id": "hlFI6m2qDhXn"
      }
    },
    {
      "cell_type": "code",
      "source": [
        "import joblib\n",
        "\n",
        "# Load the saved model from file\n",
        "model_filename = 'Sentiment_Analysis.pkl'\n",
        "loaded_classifier = joblib.load(model_filename)\n",
        "\n",
        "# Get user input\n",
        "new_input = input(\"Enter a Review: \")\n",
        "\n",
        "print(\"\\n\\n\")\n",
        "\n",
        "# Transform the new input using the same vectorizer\n",
        "new_input_transformed = vectorizer.transform([new_input])\n",
        "\n",
        "# Predict sentiment label for the new input using the loaded model\n",
        "predicted_label = loaded_classifier.predict(new_input_transformed)\n",
        "\n",
        "# Map the predicted label to sentiment text\n",
        "sentiment_text = {\n",
        "    \"positive\": \"Positive\",\n",
        "    \"negative\": \"Negative\",\n",
        "    \"neutral\": \"Neutral\"\n",
        "}\n",
        "\n",
        "predicted_sentiment = sentiment_text[predicted_label[0]]\n",
        "\n",
        "print(\"Predicted sentiment: A\", predicted_sentiment+\" Review\")\n"
      ],
      "metadata": {
        "colab": {
          "base_uri": "https://localhost:8080/"
        },
        "id": "c19BEAKWO4tj",
        "outputId": "168b1d7e-8dd3-4671-c7b9-e3e003700a11"
      },
      "execution_count": 167,
      "outputs": [
        {
          "output_type": "stream",
          "name": "stdout",
          "text": [
            "Enter a Review: excelent\n",
            "\n",
            "\n",
            "\n",
            "Predicted sentiment: A Positive Review\n"
          ]
        }
      ]
    },
    {
      "cell_type": "code",
      "source": [],
      "metadata": {
        "id": "VHuLmGYpPVqM"
      },
      "execution_count": null,
      "outputs": []
    }
  ]
}